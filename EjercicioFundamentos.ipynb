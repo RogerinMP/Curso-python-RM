{
 "cells": [
  {
   "cell_type": "markdown",
   "id": "c02c956c",
   "metadata": {},
   "source": [
    "##Crea un Jupyter Notebook para el ejercicio y escribe un programa pidiéndole\n",
    "al usuario un entero, un float y una cadena. No te olvides de añadir la función\n",
    "type para detectar el tipo de dato de cada uno de los valores. Posteriormente\n",
    "imprime los valores y el tipo de dato de cada uno usando la función print. \n"
   ]
  },
  {
   "cell_type": "code",
   "execution_count": 12,
   "id": "4daf7225",
   "metadata": {},
   "outputs": [
    {
     "name": "stdout",
     "output_type": "stream",
     "text": [
      "Ingresa un valor entero, Un valor decimal y tu nombre11 33.3 rogelio\n",
      "<class 'int'> El valor entero es : 11\n",
      "<class 'float'> El valor flotante es : 33.3\n",
      "<class 'str'> El valor Cadenas es : rogelio\n"
     ]
    }
   ],
   "source": [
    "entero, flotante, cadena =  input(\"Ingresa un valor entero, Un valor decimal y tu nombre\").split()\n",
    "print(type(int(entero)),\"El valor entero es :\", entero)\n",
    "print(type(float(flotante)),\"El valor flotante es :\", flotante)\n",
    "print(type(cadena),\"El valor Cadenas es :\", cadena)\n",
    "\n"
   ]
  },
  {
   "cell_type": "code",
   "execution_count": null,
   "id": "acf19d44",
   "metadata": {},
   "outputs": [],
   "source": []
  }
 ],
 "metadata": {
  "kernelspec": {
   "display_name": "Python 3 (ipykernel)",
   "language": "python",
   "name": "python3"
  },
  "language_info": {
   "codemirror_mode": {
    "name": "ipython",
    "version": 3
   },
   "file_extension": ".py",
   "mimetype": "text/x-python",
   "name": "python",
   "nbconvert_exporter": "python",
   "pygments_lexer": "ipython3",
   "version": "3.10.9"
  }
 },
 "nbformat": 4,
 "nbformat_minor": 5
}
