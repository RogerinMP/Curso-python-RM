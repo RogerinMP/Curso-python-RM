{
 "cells": [
  {
   "cell_type": "markdown",
   "id": "c02c956c",
   "metadata": {},
   "source": [
    "##Crea un Jupyter Notebook para el ejercicio y escribe un programa pidiéndole\n",
    "al usuario un entero, un float y una cadena. No te olvides de añadir la función\n",
    "type para detectar el tipo de dato de cada uno de los valores. Posteriormente\n",
    "imprime los valores y el tipo de dato de cada uno usando la función print. \n"
   ]
  },
  {
   "cell_type": "code",
   "execution_count": 11,
   "id": "4daf7225",
   "metadata": {},
   "outputs": [
    {
     "name": "stdout",
     "output_type": "stream",
     "text": [
      "Ingresa un valor entero, Un valor decimal y tu nombre1 2.2 roy\n",
      "<class 'int'> El valor entero es : 1\n",
      "<class 'float'> El valor flotante es : 2.2\n",
      "<class 'str'> El valor Cadenas es : roy\n"
     ]
    }
   ],
   "source": [
    "entero, flotante, cadena =  input(\"Ingresa un valor entero, Un valor decimal y tu nombre\").split()\n",
    "print(type(int(entero)),\"El valor entero es :\", entero)\n",
    "print(type(float(flotante)),\"El valor flotante es :\", flotante)\n",
    "print(type(cadena),\"El valor Cadenas es :\", cadena)\n",
    "\n"
   ]
  },
  {
   "cell_type": "markdown",
   "id": "70feed02",
   "metadata": {},
   "source": []
  },
  {
   "cell_type": "code",
   "execution_count": 8,
   "id": "2350b5d3",
   "metadata": {},
   "outputs": [
    {
     "name": "stdout",
     "output_type": "stream",
     "text": [
      "Ingresa un valor entero: 1\n",
      "Ingresa un valor decimal: 2.2\n",
      "Ingresa tu nombre: rogelio\n",
      "<class 'int'> El valor entero es: 1\n",
      "<class 'float'> El valor flotante es: 2.2\n",
      "<class 'str'> El valor de la cadena es: rogelio\n"
     ]
    }
   ],
   "source": [
    "entero = int(input(\"Ingresa un valor entero: \"))\n",
    "flotante = float(input(\"Ingresa un valor decimal: \"))\n",
    "cadena = input(\"Ingresa tu nombre: \")\n",
    "\n",
    "print(type(entero), \"El valor entero es:\", entero)\n",
    "print(type(flotante), \"El valor flotante es:\", flotante)\n",
    "print(type(cadena), \"El valor de la cadena es:\", cadena)"
   ]
  },
  {
   "cell_type": "code",
   "execution_count": 10,
   "id": "e7047cbc",
   "metadata": {},
   "outputs": [
    {
     "name": "stdout",
     "output_type": "stream",
     "text": [
      "Ingresa un valor entero, un valor decimal y tu nombre: 1 2.2 roy\n",
      "<class 'int'> El valor entero es: 1\n",
      "<class 'float'> El valor flotante es: 2.2\n",
      "<class 'str'> El valor de la cadena es: roy\n"
     ]
    }
   ],
   "source": [
    "valores = input(\"Ingresa un valor entero, un valor decimal y tu nombre: \").split()\n",
    "\n",
    "entero = int(valores[0])\n",
    "flotante = float(valores[1])\n",
    "cadena = valores[2]\n",
    "\n",
    "print(type(entero), \"El valor entero es:\", entero)\n",
    "print(type(flotante), \"El valor flotante es:\", flotante)\n",
    "print(type(cadena), \"El valor de la cadena es:\", cadena)\n"
   ]
  },
  {
   "cell_type": "code",
   "execution_count": null,
   "id": "caae7feb",
   "metadata": {},
   "outputs": [],
   "source": []
  }
 ],
 "metadata": {
  "kernelspec": {
   "display_name": "Python 3 (ipykernel)",
   "language": "python",
   "name": "python3"
  },
  "language_info": {
   "codemirror_mode": {
    "name": "ipython",
    "version": 3
   },
   "file_extension": ".py",
   "mimetype": "text/x-python",
   "name": "python",
   "nbconvert_exporter": "python",
   "pygments_lexer": "ipython3",
   "version": "3.10.9"
  }
 },
 "nbformat": 4,
 "nbformat_minor": 5
}
