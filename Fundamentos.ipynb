{
 "cells": [
  {
   "cell_type": "markdown",
   "id": "cc7e1aa6",
   "metadata": {},
   "source": [
    "### Python distingue entre mayusculas y minusculas"
   ]
  },
  {
   "cell_type": "code",
   "execution_count": 2,
   "id": "995cfde5",
   "metadata": {},
   "outputs": [
    {
     "name": "stdout",
     "output_type": "stream",
     "text": [
      "El curso es:  Backend Python\n"
     ]
    }
   ],
   "source": [
    "A =  \"Backend Python\"\n",
    "a =  \"Ortografia\"\n",
    "print (\"El curso es: \",A)"
   ]
  },
  {
   "cell_type": "code",
   "execution_count": 3,
   "id": "a7d8b9a0",
   "metadata": {},
   "outputs": [
    {
     "ename": "NameError",
     "evalue": "name 'a' is not defined",
     "output_type": "error",
     "traceback": [
      "\u001b[1;31m---------------------------------------------------------------------------\u001b[0m",
      "\u001b[1;31mNameError\u001b[0m                                 Traceback (most recent call last)",
      "Cell \u001b[1;32mIn[3], line 1\u001b[0m\n\u001b[1;32m----> 1\u001b[0m \u001b[38;5;28mprint\u001b[39m (\u001b[38;5;124m\"\u001b[39m\u001b[38;5;124mEl curso es: \u001b[39m\u001b[38;5;124m\"\u001b[39m,\u001b[43ma\u001b[49m)\n",
      "\u001b[1;31mNameError\u001b[0m: name 'a' is not defined"
     ]
    }
   ],
   "source": [
    "print (\"El curso es: \",a)"
   ]
  },
  {
   "cell_type": "code",
   "execution_count": 4,
   "id": "ca0cce68",
   "metadata": {},
   "outputs": [
    {
     "name": "stdout",
     "output_type": "stream",
     "text": [
      "El curso es:  Backend Python\n"
     ]
    }
   ],
   "source": [
    "print (\"El curso es: \",A)"
   ]
  },
  {
   "cell_type": "code",
   "execution_count": 5,
   "id": "0e1b0262",
   "metadata": {},
   "outputs": [
    {
     "name": "stdout",
     "output_type": "stream",
     "text": [
      "El curso es:  Ortografia\n"
     ]
    }
   ],
   "source": [
    "a =  \"Ortografia\"\n",
    "print (\"El curso es: \",a)"
   ]
  },
  {
   "cell_type": "markdown",
   "id": "5a9115a4",
   "metadata": {},
   "source": [
    "print (\"El curso es: \",A)"
   ]
  },
  {
   "cell_type": "markdown",
   "id": "c576dcd0",
   "metadata": {},
   "source": [
    "### Palabras reservadas"
   ]
  },
  {
   "cell_type": "code",
   "execution_count": 7,
   "id": "0bda0fcf",
   "metadata": {},
   "outputs": [
    {
     "name": "stdout",
     "output_type": "stream",
     "text": [
      "\n",
      "Here is a list of the Python keywords.  Enter any keyword to get more help.\n",
      "\n",
      "False               class               from                or\n",
      "None                continue            global              pass\n",
      "True                def                 if                  raise\n",
      "and                 del                 import              return\n",
      "as                  elif                in                  try\n",
      "assert              else                is                  while\n",
      "async               except              lambda              with\n",
      "await               finally             nonlocal            yield\n",
      "break               for                 not                 \n",
      "\n"
     ]
    }
   ],
   "source": [
    "help(\"keywords\")"
   ]
  },
  {
   "cell_type": "markdown",
   "id": "e3880367",
   "metadata": {},
   "source": [
    "### Caracteres de escape en python"
   ]
  },
  {
   "cell_type": "code",
   "execution_count": 9,
   "id": "1d9300a4",
   "metadata": {},
   "outputs": [
    {
     "data": {
      "text/plain": [
       "\"'\""
      ]
     },
     "execution_count": 9,
     "metadata": {},
     "output_type": "execute_result"
    }
   ],
   "source": [
    "\"\\'\""
   ]
  },
  {
   "cell_type": "code",
   "execution_count": 10,
   "id": "cd251747",
   "metadata": {},
   "outputs": [
    {
     "ename": "SyntaxError",
     "evalue": "incomplete input (3857640367.py, line 1)",
     "output_type": "error",
     "traceback": [
      "\u001b[1;36m  Cell \u001b[1;32mIn[10], line 1\u001b[1;36m\u001b[0m\n\u001b[1;33m    '''\u001b[0m\n\u001b[1;37m    ^\u001b[0m\n\u001b[1;31mSyntaxError\u001b[0m\u001b[1;31m:\u001b[0m incomplete input\n"
     ]
    }
   ],
   "source": [
    "'''"
   ]
  },
  {
   "cell_type": "code",
   "execution_count": 11,
   "id": "cf1e0f73",
   "metadata": {},
   "outputs": [
    {
     "data": {
      "text/plain": [
       "'\\n'"
      ]
     },
     "execution_count": 11,
     "metadata": {},
     "output_type": "execute_result"
    }
   ],
   "source": [
    "\"\\n\" ### Salto de linea"
   ]
  },
  {
   "cell_type": "code",
   "execution_count": 12,
   "id": "c90490ff",
   "metadata": {},
   "outputs": [
    {
     "name": "stdout",
     "output_type": "stream",
     "text": [
      "Curso de python de Ebac\n"
     ]
    }
   ],
   "source": [
    "my_course = \"Curso de python de Ebac\"\n",
    "print(my_course)"
   ]
  },
  {
   "cell_type": "code",
   "execution_count": 13,
   "id": "23c1c02a",
   "metadata": {},
   "outputs": [
    {
     "name": "stdout",
     "output_type": "stream",
     "text": [
      "Curso de python de \n",
      "Ebac\n"
     ]
    }
   ],
   "source": [
    "my_course = \"Curso de python de \\nEbac\"\n",
    "print(my_course)"
   ]
  },
  {
   "cell_type": "code",
   "execution_count": 14,
   "id": "68461a4a",
   "metadata": {},
   "outputs": [
    {
     "data": {
      "text/plain": [
       "'\\r'"
      ]
     },
     "execution_count": 14,
     "metadata": {},
     "output_type": "execute_result"
    }
   ],
   "source": [
    "\"\\r\" ### Retorno de carro "
   ]
  },
  {
   "cell_type": "code",
   "execution_count": 16,
   "id": "1109f625",
   "metadata": {},
   "outputs": [
    {
     "name": "stdout",
     "output_type": "stream",
     "text": [
      "Curso \r",
      "de python de Ebac\n"
     ]
    }
   ],
   "source": [
    "my_course = \"Curso \\rde python de Ebac\"\n",
    "print(my_course)"
   ]
  },
  {
   "cell_type": "code",
   "execution_count": 17,
   "id": "91e55ccc",
   "metadata": {},
   "outputs": [
    {
     "name": "stdout",
     "output_type": "stream",
     "text": [
      "Hola\n"
     ]
    }
   ],
   "source": [
    "octal = (\"\\110\\157\\154\\141\")\n",
    "print(octal)"
   ]
  },
  {
   "cell_type": "code",
   "execution_count": 18,
   "id": "70dc543d",
   "metadata": {},
   "outputs": [
    {
     "name": "stdout",
     "output_type": "stream",
     "text": [
      "1022\n"
     ]
    }
   ],
   "source": [
    "number = 22\n",
    "print(eval(\"number+1000\"))"
   ]
  },
  {
   "cell_type": "code",
   "execution_count": 19,
   "id": "3ca5c5d5",
   "metadata": {},
   "outputs": [
    {
     "name": "stdout",
     "output_type": "stream",
     "text": [
      "32\n"
     ]
    }
   ],
   "source": [
    "print(number +10)"
   ]
  },
  {
   "cell_type": "code",
   "execution_count": 22,
   "id": "716eb805",
   "metadata": {},
   "outputs": [
    {
     "name": "stdout",
     "output_type": "stream",
     "text": [
      "ingresa un numero: 8888\n",
      "8888\n",
      "<class 'str'>\n"
     ]
    }
   ],
   "source": [
    "my_input =  input(\"ingresa un numero: \")\n",
    "print(my_input)\n",
    "print(type(my_input))"
   ]
  },
  {
   "cell_type": "code",
   "execution_count": 1,
   "id": "671ba9bb",
   "metadata": {},
   "outputs": [
    {
     "name": "stdout",
     "output_type": "stream",
     "text": [
      "ingresa un numero: 5\n",
      "5\n",
      "<class 'int'>\n"
     ]
    }
   ],
   "source": [
    "## Eval\n",
    "my_input = eval(input(\"ingresa un numero: \"))\n",
    "print(my_input)\n",
    "print(type(my_input))"
   ]
  },
  {
   "cell_type": "markdown",
   "id": "853123c2",
   "metadata": {},
   "source": [
    "### Range"
   ]
  },
  {
   "cell_type": "code",
   "execution_count": 25,
   "id": "f69cea3a",
   "metadata": {},
   "outputs": [],
   "source": [
    "x= range(10)"
   ]
  },
  {
   "cell_type": "code",
   "execution_count": 26,
   "id": "c68095f8",
   "metadata": {},
   "outputs": [
    {
     "name": "stdout",
     "output_type": "stream",
     "text": [
      "0\n",
      "1\n",
      "2\n",
      "3\n",
      "4\n",
      "5\n",
      "6\n",
      "7\n",
      "8\n",
      "9\n"
     ]
    }
   ],
   "source": [
    "for number in x:\n",
    "    print(number)"
   ]
  },
  {
   "cell_type": "code",
   "execution_count": 29,
   "id": "6f31728e",
   "metadata": {},
   "outputs": [
    {
     "name": "stdout",
     "output_type": "stream",
     "text": [
      "1\n",
      "2\n",
      "3\n",
      "4\n",
      "5\n"
     ]
    }
   ],
   "source": [
    "x=range(1,6)\n",
    "for number in x:\n",
    "    print (number)"
   ]
  },
  {
   "cell_type": "markdown",
   "id": "32058a0c",
   "metadata": {},
   "source": [
    "### x= range ( inicia, termina y avanza en pasos de )\n",
    "x= range(1,20,2)\n",
    "for number in x:\n",
    "    print(number)"
   ]
  },
  {
   "cell_type": "markdown",
   "id": "34378c90",
   "metadata": {},
   "source": [
    "# Mutabilidad e Inmutabilidad "
   ]
  },
  {
   "cell_type": "markdown",
   "id": "2be2f1e0",
   "metadata": {},
   "source": [
    "## Inmutabilidad , las tuplas son inmutables es decir no se pueden modificar sus valores \n"
   ]
  },
  {
   "cell_type": "code",
   "execution_count": 4,
   "id": "d3b1ae3c",
   "metadata": {},
   "outputs": [],
   "source": [
    "Tupla1 =  (1,2,3,4,5,6)"
   ]
  },
  {
   "cell_type": "code",
   "execution_count": 5,
   "id": "5c901ac2",
   "metadata": {},
   "outputs": [
    {
     "ename": "TypeError",
     "evalue": "'tuple' object does not support item assignment",
     "output_type": "error",
     "traceback": [
      "\u001b[1;31m---------------------------------------------------------------------------\u001b[0m",
      "\u001b[1;31mTypeError\u001b[0m                                 Traceback (most recent call last)",
      "Cell \u001b[1;32mIn[5], line 1\u001b[0m\n\u001b[1;32m----> 1\u001b[0m Tupla1[\u001b[38;5;241m2\u001b[39m]\u001b[38;5;241m=\u001b[39m \u001b[38;5;241m5\u001b[39m\n",
      "\u001b[1;31mTypeError\u001b[0m: 'tuple' object does not support item assignment"
     ]
    }
   ],
   "source": [
    "Tupla1[2]= 5"
   ]
  },
  {
   "cell_type": "code",
   "execution_count": 6,
   "id": "69eb7cd4",
   "metadata": {},
   "outputs": [
    {
     "ename": "TypeError",
     "evalue": "'tuple' object does not support item assignment",
     "output_type": "error",
     "traceback": [
      "\u001b[1;31m---------------------------------------------------------------------------\u001b[0m",
      "\u001b[1;31mTypeError\u001b[0m                                 Traceback (most recent call last)",
      "Cell \u001b[1;32mIn[6], line 2\u001b[0m\n\u001b[0;32m      1\u001b[0m carniceria \u001b[38;5;241m=\u001b[39m (\u001b[38;5;241m1\u001b[39m,\u001b[38;5;241m2\u001b[39m,\u001b[38;5;241m3\u001b[39m,\u001b[38;5;241m4\u001b[39m,\u001b[38;5;241m5\u001b[39m,\u001b[38;5;241m6\u001b[39m)\n\u001b[1;32m----> 2\u001b[0m carniceria[\u001b[38;5;241m1\u001b[39m]\u001b[38;5;241m=\u001b[39m\u001b[38;5;241m999\u001b[39m\n",
      "\u001b[1;31mTypeError\u001b[0m: 'tuple' object does not support item assignment"
     ]
    }
   ],
   "source": [
    "carniceria = (1,2,3,4,5,6)\n",
    "carniceria[1]=999"
   ]
  },
  {
   "cell_type": "code",
   "execution_count": 7,
   "id": "48fca352",
   "metadata": {},
   "outputs": [],
   "source": [
    "## Lista \n",
    "colores= [\"rojo\", \"negro\",\"azul\"]"
   ]
  },
  {
   "cell_type": "code",
   "execution_count": 8,
   "id": "e3c1c8c5",
   "metadata": {},
   "outputs": [],
   "source": [
    "colores[1] =  \"verde\""
   ]
  },
  {
   "cell_type": "code",
   "execution_count": 9,
   "id": "9ffe5979",
   "metadata": {},
   "outputs": [
    {
     "data": {
      "text/plain": [
       "['rojo', 'verde', 'azul']"
      ]
     },
     "execution_count": 9,
     "metadata": {},
     "output_type": "execute_result"
    }
   ],
   "source": [
    "colores"
   ]
  },
  {
   "cell_type": "code",
   "execution_count": 10,
   "id": "2ffea8cd",
   "metadata": {},
   "outputs": [],
   "source": [
    "## siempre inicia a contar desde cero por lo que 1 es la segunda posición de izq a derecha"
   ]
  },
  {
   "cell_type": "code",
   "execution_count": 11,
   "id": "9fc49cd6",
   "metadata": {},
   "outputs": [],
   "source": [
    "import builtins"
   ]
  },
  {
   "cell_type": "code",
   "execution_count": 12,
   "id": "0b0c05f8",
   "metadata": {},
   "outputs": [
    {
     "name": "stdout",
     "output_type": "stream",
     "text": [
      "Help on built-in function print in module builtins:\n",
      "\n",
      "print(...)\n",
      "    print(value, ..., sep=' ', end='\\n', file=sys.stdout, flush=False)\n",
      "    \n",
      "    Prints the values to a stream, or to sys.stdout by default.\n",
      "    Optional keyword arguments:\n",
      "    file:  a file-like object (stream); defaults to the current sys.stdout.\n",
      "    sep:   string inserted between values, default a space.\n",
      "    end:   string appended after the last value, default a newline.\n",
      "    flush: whether to forcibly flush the stream.\n",
      "\n"
     ]
    }
   ],
   "source": [
    "help (builtins.print)"
   ]
  },
  {
   "cell_type": "markdown",
   "id": "7ec88fc1",
   "metadata": {},
   "source": [
    "##SETS"
   ]
  },
  {
   "cell_type": "code",
   "execution_count": 14,
   "id": "c359ca13",
   "metadata": {},
   "outputs": [],
   "source": [
    "mySet = {1,\"casdena\",3.3,False} ## Se pueden combinar distintos tipos de datos"
   ]
  },
  {
   "cell_type": "code",
   "execution_count": 15,
   "id": "0271ba13",
   "metadata": {},
   "outputs": [
    {
     "name": "stdout",
     "output_type": "stream",
     "text": [
      "{False, 1, 3.3, 'casdena'}\n"
     ]
    }
   ],
   "source": [
    "print(mySet\n",
    "    )"
   ]
  },
  {
   "cell_type": "code",
   "execution_count": 19,
   "id": "242e9624",
   "metadata": {},
   "outputs": [],
   "source": [
    "diccionario = {\"a\":1, \"b\":2, \"c\":3}"
   ]
  },
  {
   "cell_type": "code",
   "execution_count": 21,
   "id": "6fccad62",
   "metadata": {},
   "outputs": [
    {
     "data": {
      "text/plain": [
       "1"
      ]
     },
     "execution_count": 21,
     "metadata": {},
     "output_type": "execute_result"
    }
   ],
   "source": [
    "diccionario[\"a\"\n",
    "        ]"
   ]
  },
  {
   "cell_type": "code",
   "execution_count": 22,
   "id": "bf5a045b",
   "metadata": {},
   "outputs": [
    {
     "name": "stdout",
     "output_type": "stream",
     "text": [
      "La direccion de memeoria es:  2523881941488\n"
     ]
    }
   ],
   "source": [
    "str =  \"Rogelio\"\n",
    "print(\"La direccion de memeoria es: \", id(str))"
   ]
  },
  {
   "cell_type": "markdown",
   "id": "dc0f5c8a",
   "metadata": {},
   "source": [
    "##Multiples valores de entrada\n"
   ]
  },
  {
   "cell_type": "code",
   "execution_count": 1,
   "id": "c21fbb72",
   "metadata": {},
   "outputs": [
    {
     "name": "stdout",
     "output_type": "stream",
     "text": [
      "Ingresa el valor :888\n",
      "El valor de myNumber es:  888\n"
     ]
    }
   ],
   "source": [
    "myNumber= input(\"Ingresa el valor :\" )\n",
    "print (\"El valor de myNumber es: \",myNumber)"
   ]
  },
  {
   "cell_type": "code",
   "execution_count": 2,
   "id": "f17b506f",
   "metadata": {},
   "outputs": [
    {
     "name": "stdout",
     "output_type": "stream",
     "text": [
      "ingresa los valores: 1 2 3 \n",
      "a 1\n",
      "b 2\n",
      "c 3\n"
     ]
    }
   ],
   "source": [
    "a,b,c = input( \"ingresa los valores: \").split() ## detecta los espacios para asignar a cada variable\n",
    "print( \"a\",a)\n",
    "print( \"b\",b)\n",
    "print( \"c\",c)\n"
   ]
  },
  {
   "cell_type": "code",
   "execution_count": 3,
   "id": "acfdcbee",
   "metadata": {},
   "outputs": [
    {
     "name": "stdout",
     "output_type": "stream",
     "text": [
      "ingresa los valores: 5,6,7\n",
      "a 5\n",
      "b 6\n",
      "c 7\n"
     ]
    }
   ],
   "source": [
    "a,b,c = input( \"ingresa los valores: \").split(\",\") ## detecta las , espacios para asignar a cada variable\n",
    "print( \"a\",a)\n",
    "print( \"b\",b)\n",
    "print( \"c\",c)\n"
   ]
  },
  {
   "cell_type": "code",
   "execution_count": null,
   "id": "15229f93",
   "metadata": {},
   "outputs": [],
   "source": []
  },
  {
   "cell_type": "code",
   "execution_count": null,
   "id": "8ea5ceb5",
   "metadata": {},
   "outputs": [],
   "source": []
  },
  {
   "cell_type": "code",
   "execution_count": null,
   "id": "b9326349",
   "metadata": {},
   "outputs": [],
   "source": []
  }
 ],
 "metadata": {
  "kernelspec": {
   "display_name": "Python 3 (ipykernel)",
   "language": "python",
   "name": "python3"
  },
  "language_info": {
   "codemirror_mode": {
    "name": "ipython",
    "version": 3
   },
   "file_extension": ".py",
   "mimetype": "text/x-python",
   "name": "python",
   "nbconvert_exporter": "python",
   "pygments_lexer": "ipython3",
   "version": "3.10.9"
  }
 },
 "nbformat": 4,
 "nbformat_minor": 5
}
