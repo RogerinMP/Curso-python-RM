{
 "cells": [
  {
   "cell_type": "code",
   "execution_count": 3,
   "id": "a92ce7fc",
   "metadata": {},
   "outputs": [
    {
     "name": "stdout",
     "output_type": "stream",
     "text": [
      "¡Bienvenido al programa de operaciones!\n",
      "Ingresa el primer número: 2\n",
      "Ingresa el segundo número: 22\n",
      "Operaciones disponibles: suma, resta, multiplicacion, division, potencia\n",
      "Selecciona una operación: resta\n",
      "Primer número: 2.0\n",
      "Segundo número: 22.0\n",
      "Operación: resta\n",
      "Resultado: -20.0\n"
     ]
    }
   ],
   "source": [
    "def realizar_operacion(operacion, num1, num2):\n",
    "    if operacion == \"suma\":\n",
    "        resultado = num1 + num2\n",
    "    elif operacion == \"resta\":\n",
    "        resultado = num1 - num2\n",
    "    elif operacion == \"multiplicacion\":\n",
    "        resultado = num1 * num2\n",
    "    elif operacion == \"division\":\n",
    "        resultado = num1 / num2\n",
    "    elif operacion == \"potencia\":\n",
    "        resultado = num1 ** num2\n",
    "    else:\n",
    "        resultado = None\n",
    "        print(\"Operación no válida.\")\n",
    "    return resultado\n",
    "\n",
    "\n",
    "print(\"¡Bienvenido al programa de operaciones!\")\n",
    "\n",
    "num1 = float(input(\"Ingresa el primer número: \"))\n",
    "num2 = float(input(\"Ingresa el segundo número: \"))\n",
    "\n",
    "print(\"Operaciones disponibles: suma, resta, multiplicacion, division, potencia\")\n",
    "operacion = input(\"Selecciona una operación: \")\n",
    "\n",
    "resultado = realizar_operacion(operacion, num1, num2)\n",
    "\n",
    "if resultado is not None:\n",
    "    print(\"Primer número:\", num1)\n",
    "    print(\"Segundo número:\", num2)\n",
    "    print(\"Operación:\", operacion)\n",
    "    print(\"Resultado:\", resultado)"
   ]
  },
  {
   "cell_type": "code",
   "execution_count": 2,
   "id": "0464a8fb",
   "metadata": {},
   "outputs": [
    {
     "name": "stdout",
     "output_type": "stream",
     "text": [
      "Ingresa el primer número: 1\n"
     ]
    }
   ],
   "source": []
  },
  {
   "cell_type": "code",
   "execution_count": null,
   "id": "1e74a61a",
   "metadata": {},
   "outputs": [],
   "source": []
  }
 ],
 "metadata": {
  "kernelspec": {
   "display_name": "Python 3 (ipykernel)",
   "language": "python",
   "name": "python3"
  },
  "language_info": {
   "codemirror_mode": {
    "name": "ipython",
    "version": 3
   },
   "file_extension": ".py",
   "mimetype": "text/x-python",
   "name": "python",
   "nbconvert_exporter": "python",
   "pygments_lexer": "ipython3",
   "version": "3.10.9"
  }
 },
 "nbformat": 4,
 "nbformat_minor": 5
}
