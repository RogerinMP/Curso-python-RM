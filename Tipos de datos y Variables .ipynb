{
 "cells": [
  {
   "cell_type": "code",
   "execution_count": 1,
   "id": "aaf57543",
   "metadata": {},
   "outputs": [],
   "source": [
    "#Variable global \n",
    "variable_Global = 50\n",
    "def miFuncion():\n",
    "    pass\n",
    "def miFuncion2():\n",
    "    pass\n"
   ]
  },
  {
   "cell_type": "code",
   "execution_count": 2,
   "id": "0314c46a",
   "metadata": {},
   "outputs": [],
   "source": [
    "def myFuncion():\n",
    "    variableLocal =5\n",
    "    \n",
    "def myFuncion2():\n",
    "    variableLocal2 = 35"
   ]
  },
  {
   "cell_type": "code",
   "execution_count": 3,
   "id": "71c9efea",
   "metadata": {},
   "outputs": [
    {
     "name": "stdout",
     "output_type": "stream",
     "text": [
      "Val variable global:  50\n",
      "Val variable Local:  None\n"
     ]
    }
   ],
   "source": [
    "print(\"Val variable global: \", variable_Global)\n",
    "print(\"Val variable Local: \", myFuncion())"
   ]
  },
  {
   "cell_type": "code",
   "execution_count": 4,
   "id": "f1090fba",
   "metadata": {},
   "outputs": [
    {
     "name": "stdout",
     "output_type": "stream",
     "text": [
      "Val variable global:  50\n"
     ]
    },
    {
     "ename": "NameError",
     "evalue": "name 'variableLocal' is not defined",
     "output_type": "error",
     "traceback": [
      "\u001b[1;31m---------------------------------------------------------------------------\u001b[0m",
      "\u001b[1;31mNameError\u001b[0m                                 Traceback (most recent call last)",
      "Cell \u001b[1;32mIn[4], line 2\u001b[0m\n\u001b[0;32m      1\u001b[0m \u001b[38;5;28mprint\u001b[39m(\u001b[38;5;124m\"\u001b[39m\u001b[38;5;124mVal variable global: \u001b[39m\u001b[38;5;124m\"\u001b[39m, variable_Global)\n\u001b[1;32m----> 2\u001b[0m \u001b[38;5;28mprint\u001b[39m(\u001b[38;5;124m\"\u001b[39m\u001b[38;5;124mVal variable Local: \u001b[39m\u001b[38;5;124m\"\u001b[39m, \u001b[43mvariableLocal\u001b[49m)\n",
      "\u001b[1;31mNameError\u001b[0m: name 'variableLocal' is not defined"
     ]
    }
   ],
   "source": [
    "print(\"Val variable global: \", variable_Global)\n",
    "print(\"Val variable Local: \", variableLocal)"
   ]
  },
  {
   "cell_type": "code",
   "execution_count": 5,
   "id": "9d7a7c45",
   "metadata": {},
   "outputs": [],
   "source": [
    "def myFuncion():\n",
    "    variableLocal =5\n",
    "    print(\"El valor de la variable local  es :\", variableLocal)\n",
    "    \n",
    "def myFuncion2():\n",
    "    variableLocal2 = 35\n"
   ]
  },
  {
   "cell_type": "code",
   "execution_count": 6,
   "id": "aef4ffc5",
   "metadata": {},
   "outputs": [
    {
     "name": "stdout",
     "output_type": "stream",
     "text": [
      "El valor de la variable local  es : 5\n"
     ]
    }
   ],
   "source": [
    "myFuncion()"
   ]
  },
  {
   "cell_type": "markdown",
   "id": "a316a15d",
   "metadata": {},
   "source": [
    "#Decimal \n"
   ]
  },
  {
   "cell_type": "code",
   "execution_count": null,
   "id": "d085967a",
   "metadata": {},
   "outputs": [],
   "source": []
  }
 ],
 "metadata": {
  "kernelspec": {
   "display_name": "Python 3 (ipykernel)",
   "language": "python",
   "name": "python3"
  },
  "language_info": {
   "codemirror_mode": {
    "name": "ipython",
    "version": 3
   },
   "file_extension": ".py",
   "mimetype": "text/x-python",
   "name": "python",
   "nbconvert_exporter": "python",
   "pygments_lexer": "ipython3",
   "version": "3.10.9"
  }
 },
 "nbformat": 4,
 "nbformat_minor": 5
}
